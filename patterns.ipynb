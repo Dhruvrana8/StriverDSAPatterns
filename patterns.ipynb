{
 "cells": [
  {
   "cell_type": "code",
   "execution_count": null,
   "metadata": {},
   "outputs": [],
   "source": [
    "'''\n",
    "The link for the Striver Patterns\n",
    "https://takeuforward.org/strivers-a2z-dsa-course/must-do-pattern-problems-before-starting-dsa/\n",
    "'''\n",
    "# This is for the square\n",
    "number = int(input(\"Enter the Number\"))\n",
    "for i in range(number):\n",
    "    for j in range(number):\n",
    "        print(\"*\",end='')\n",
    "    print('')"
   ]
  },
  {
   "cell_type": "code",
   "execution_count": null,
   "metadata": {},
   "outputs": [],
   "source": [
    "# This is for the Right angle triangle\n",
    "number = int(input(\"Enter the number\"))\n",
    "\n",
    "for i in range(number):\n",
    "    for j in range(0,i+1):\n",
    "        print(\"*\",end='')\n",
    "    print(\"\")"
   ]
  },
  {
   "cell_type": "code",
   "execution_count": null,
   "metadata": {},
   "outputs": [],
   "source": [
    "# This is for the Right angle triangle with Number\n",
    "number = int(input(\"Enter the number\"))\n",
    "\n",
    "for i in range(number):\n",
    "    for j in range(0,i+1):\n",
    "        print(j+1,end='')\n",
    "    print(\"\")"
   ]
  },
  {
   "cell_type": "code",
   "execution_count": null,
   "metadata": {},
   "outputs": [],
   "source": [
    "# This is for the Right angle triangle with Number of the row\n",
    "number = int(input(\"Enter the number\"))\n",
    "\n",
    "for i in range(number):\n",
    "    for j in range(0,i+1):\n",
    "        print(i+1,end='')\n",
    "    print(\"\")"
   ]
  },
  {
   "cell_type": "code",
   "execution_count": null,
   "metadata": {},
   "outputs": [],
   "source": [
    "# This is for the reverse right angle triangle\n",
    "number = int(input(\"Enter the number\"))\n",
    "\n",
    "for i in range(number):\n",
    "    for j in range(0,number-i):\n",
    "        print('*',end='')\n",
    "    print(\"\")"
   ]
  },
  {
   "cell_type": "code",
   "execution_count": null,
   "metadata": {},
   "outputs": [],
   "source": [
    "# This is for the reverse right angle triangle with Number\n",
    "number = int(input(\"Enter the number\"))\n",
    "\n",
    "for i in range(number):\n",
    "    for j in range(0,number-i):\n",
    "        print(j+1,end='')\n",
    "    print(\"\")"
   ]
  },
  {
   "cell_type": "code",
   "execution_count": null,
   "metadata": {},
   "outputs": [],
   "source": []
  }
 ],
 "metadata": {
  "kernelspec": {
   "display_name": "Python 3",
   "language": "python",
   "name": "python3"
  },
  "language_info": {
   "codemirror_mode": {
    "name": "ipython",
    "version": 3
   },
   "file_extension": ".py",
   "mimetype": "text/x-python",
   "name": "python",
   "nbconvert_exporter": "python",
   "pygments_lexer": "ipython3",
   "version": "3.11.2"
  }
 },
 "nbformat": 4,
 "nbformat_minor": 2
}
